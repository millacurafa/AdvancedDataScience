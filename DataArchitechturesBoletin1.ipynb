{
  "nbformat": 4,
  "nbformat_minor": 0,
  "metadata": {
    "colab": {
      "name": "Boletin1.ipynb",
      "provenance": [],
      "collapsed_sections": [],
      "authorship_tag": "ABX9TyOopBL44Lq+NGrMknyPHZZB",
      "include_colab_link": true
    },
    "kernelspec": {
      "name": "python3",
      "display_name": "Python 3"
    }
  },
  "cells": [
    {
      "cell_type": "markdown",
      "metadata": {
        "id": "view-in-github",
        "colab_type": "text"
      },
      "source": [
        "<a href=\"https://colab.research.google.com/github/millacurafa/AdvancedDataScience/blob/main/DataArchitechturesBoletin1.ipynb\" target=\"_parent\"><img src=\"https://colab.research.google.com/assets/colab-badge.svg\" alt=\"Open In Colab\"/></a>"
      ]
    },
    {
      "cell_type": "markdown",
      "metadata": {
        "id": "NIOVpGRwc1_q"
      },
      "source": [
        "# **Ejercicios:**\n",
        "\n",
        "**1.Analizar los siguientes algoritmos y su implementación en paralelo:**\n",
        "\n",
        "  **a.** Suma entre vectores  y/o Matrices, ¿Qué pasa con la multiplicación entre dos vectores?\n",
        "\n",
        "  **b.** Suma de N números\n",
        "\n",
        "  **c.** Generar números aleatorios\n",
        "\n",
        "\n",
        "\n",
        "\n",
        "  \n",
        "\n",
        "  **d.** Ordenar N elementos \n",
        "\n",
        "**2. Resolver los siguientes ejemplos**\n",
        "\n",
        "$$Speedup = \\frac{1}{f+\\frac{1-f}{p}}$$\n",
        "\n",
        "$$Efficiency = \\frac{S_p}{P}$$\n",
        "\n",
        "**a.** El 95% del tiempo de ejecución de un programa ocurre dentro de un bucle que queremos paralelizar. ¿Cuál es la máxima velocidad que podemos esperar de una versión paralela de nuestro programa ejecutado en seis procesadores?, ¿Cuál es la eficiencia?"
      ]
    },
    {
      "cell_type": "code",
      "metadata": {
        "id": "jZyciLgugX-Y",
        "outputId": "0db5855b-eb5a-4399-b2ce-03d4e0dadf22",
        "colab": {
          "base_uri": "https://localhost:8080/",
          "height": 52
        }
      },
      "source": [
        "f = 0.05\n",
        "p = 6\n",
        "\n",
        "s = (1/(f+((1-f)/p)))\n",
        "e = s/p\n",
        "\n",
        "print(\"The speedup is\", s)\n",
        "print(\"The efficiency is\", e*100, \"%\")"
      ],
      "execution_count": 5,
      "outputs": [
        {
          "output_type": "stream",
          "text": [
            "The speedup is 4.800000000000001\n",
            "The efficiency is 80.00000000000001 %\n"
          ],
          "name": "stdout"
        }
      ]
    },
    {
      "cell_type": "markdown",
      "metadata": {
        "id": "EZsQsTDyiIoD"
      },
      "source": [
        "**b.** El 10% del tiempo de ejecución de un programa se gasta en código secuencial. ¿Cuál es el límite de la velocidad alcanzable por una versión paralela del programa?,¿Cuál es la eficiencia?"
      ]
    },
    {
      "cell_type": "code",
      "metadata": {
        "id": "wD4hhkDUgoBQ",
        "outputId": "63375470-ccbf-474d-da65-52fa7571cbaf",
        "colab": {
          "base_uri": "https://localhost:8080/",
          "height": 52
        }
      },
      "source": [
        "f = 0.1\n",
        "p = float('inf') \n",
        "\n",
        "s = 1/(f)\n",
        "e = s/p\n",
        "\n",
        "print(\"The maximum speedup is\", s)\n",
        "print(\"The efficiency is\", e)"
      ],
      "execution_count": 8,
      "outputs": [
        {
          "output_type": "stream",
          "text": [
            "The speedup is 10.0\n",
            "The efficiency is 0.0\n"
          ],
          "name": "stdout"
        }
      ]
    },
    {
      "cell_type": "markdown",
      "metadata": {
        "id": "KMO61eHIiV0m"
      },
      "source": [
        "**c.** Supongamos que se quiere escribir un programa que debe alcanzar un speedup de 100 utilizando 128 procesadores.¿Cuál es la fracción secuencial máxima que se puede tener?,¿Cuál es la eficiencia?"
      ]
    },
    {
      "cell_type": "code",
      "metadata": {
        "id": "Oiu23MV-iYMz",
        "outputId": "daec4153-7386-4f06-f72e-8abdd2c11455",
        "colab": {
          "base_uri": "https://localhost:8080/",
          "height": 52
        }
      },
      "source": [
        "p = 128\n",
        "\n",
        "s = 100\n",
        "\n",
        "e = s/p\n",
        "\n",
        "#s = (1/(f+((1-f)/p)))\n",
        "# f+((1-f)/p) = 1/s\n",
        "#fp-f = (p/s)-1\n",
        "#f = ((p/s)-1)/(p-1)\n",
        "\n",
        "\n",
        "f = ((p/s)-1)/(p-1)\n",
        "\n",
        "\n",
        "\n",
        "\n",
        "print(\"The maximum sequential fraction is\", f)\n",
        "print(\"The efficiency is\", e)"
      ],
      "execution_count": 19,
      "outputs": [
        {
          "output_type": "stream",
          "text": [
            "The maximum sequential fraction is 0.002204724409448819\n",
            "The efficiency is 0.78125\n"
          ],
          "name": "stdout"
        }
      ]
    },
    {
      "cell_type": "code",
      "metadata": {
        "id": "ZAsLHIUbbrrh"
      },
      "source": [
        ""
      ],
      "execution_count": null,
      "outputs": []
    }
  ]
}